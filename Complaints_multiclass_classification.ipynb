{
 "cells": [
  {
   "cell_type": "code",
   "execution_count": 29,
   "id": "e672c4a4-cecf-47f4-a680-02a06a5f65ae",
   "metadata": {},
   "outputs": [
    {
     "name": "stderr",
     "output_type": "stream",
     "text": [
      "C:\\Users\\lenovo\\anaconda3\\lib\\site-packages\\IPython\\core\\interactiveshell.py:3444: DtypeWarning: Columns (9) have mixed types.Specify dtype option on import or set low_memory=False.\n",
      "  exec(code_obj, self.user_global_ns, self.user_ns)\n"
     ]
    },
    {
     "data": {
      "text/html": [
       "<div>\n",
       "<style scoped>\n",
       "    .dataframe tbody tr th:only-of-type {\n",
       "        vertical-align: middle;\n",
       "    }\n",
       "\n",
       "    .dataframe tbody tr th {\n",
       "        vertical-align: top;\n",
       "    }\n",
       "\n",
       "    .dataframe thead th {\n",
       "        text-align: right;\n",
       "    }\n",
       "</style>\n",
       "<table border=\"1\" class=\"dataframe\">\n",
       "  <thead>\n",
       "    <tr style=\"text-align: right;\">\n",
       "      <th></th>\n",
       "      <th>Date received</th>\n",
       "      <th>Product</th>\n",
       "      <th>Sub-product</th>\n",
       "      <th>Issue</th>\n",
       "      <th>Sub-issue</th>\n",
       "      <th>Consumer complaint narrative</th>\n",
       "      <th>Company public response</th>\n",
       "      <th>Company</th>\n",
       "      <th>State</th>\n",
       "      <th>ZIP code</th>\n",
       "      <th>Tags</th>\n",
       "      <th>Consumer consent provided?</th>\n",
       "      <th>Submitted via</th>\n",
       "      <th>Date sent to company</th>\n",
       "      <th>Company response to consumer</th>\n",
       "      <th>Timely response?</th>\n",
       "      <th>Consumer disputed?</th>\n",
       "      <th>Complaint ID</th>\n",
       "    </tr>\n",
       "  </thead>\n",
       "  <tbody>\n",
       "    <tr>\n",
       "      <th>0</th>\n",
       "      <td>2019-05-03</td>\n",
       "      <td>Student loan</td>\n",
       "      <td>Private student loan</td>\n",
       "      <td>Struggling to repay your loan</td>\n",
       "      <td>Can't get other flexible options for repaying ...</td>\n",
       "      <td>NaN</td>\n",
       "      <td>NaN</td>\n",
       "      <td>Ameritech Financial</td>\n",
       "      <td>FL</td>\n",
       "      <td>33023.0</td>\n",
       "      <td>NaN</td>\n",
       "      <td>Consent not provided</td>\n",
       "      <td>Web</td>\n",
       "      <td>2019-05-15</td>\n",
       "      <td>Untimely response</td>\n",
       "      <td>No</td>\n",
       "      <td>NaN</td>\n",
       "      <td>3231257</td>\n",
       "    </tr>\n",
       "    <tr>\n",
       "      <th>1</th>\n",
       "      <td>2022-01-14</td>\n",
       "      <td>Credit reporting, credit repair services, or o...</td>\n",
       "      <td>Other personal consumer report</td>\n",
       "      <td>Incorrect information on your report</td>\n",
       "      <td>Information that should be on the report is mi...</td>\n",
       "      <td>NaN</td>\n",
       "      <td>NaN</td>\n",
       "      <td>TRANSUNION INTERMEDIATE HOLDINGS, INC.</td>\n",
       "      <td>TN</td>\n",
       "      <td>38008.0</td>\n",
       "      <td>NaN</td>\n",
       "      <td>NaN</td>\n",
       "      <td>Web</td>\n",
       "      <td>2022-01-14</td>\n",
       "      <td>In progress</td>\n",
       "      <td>Yes</td>\n",
       "      <td>NaN</td>\n",
       "      <td>5111195</td>\n",
       "    </tr>\n",
       "    <tr>\n",
       "      <th>2</th>\n",
       "      <td>2019-08-18</td>\n",
       "      <td>Credit reporting, credit repair services, or o...</td>\n",
       "      <td>Credit reporting</td>\n",
       "      <td>Problem with a credit reporting company's inve...</td>\n",
       "      <td>Their investigation did not fix an error on yo...</td>\n",
       "      <td>TransUnion, LLC conducted an investigation int...</td>\n",
       "      <td>Company has responded to the consumer and the ...</td>\n",
       "      <td>TRANSUNION INTERMEDIATE HOLDINGS, INC.</td>\n",
       "      <td>CA</td>\n",
       "      <td>90640.0</td>\n",
       "      <td>NaN</td>\n",
       "      <td>Consent provided</td>\n",
       "      <td>Web</td>\n",
       "      <td>2019-08-18</td>\n",
       "      <td>Closed with explanation</td>\n",
       "      <td>Yes</td>\n",
       "      <td>NaN</td>\n",
       "      <td>3345092</td>\n",
       "    </tr>\n",
       "    <tr>\n",
       "      <th>3</th>\n",
       "      <td>2019-04-10</td>\n",
       "      <td>Credit reporting, credit repair services, or o...</td>\n",
       "      <td>Credit reporting</td>\n",
       "      <td>Problem with a credit reporting company's inve...</td>\n",
       "      <td>Their investigation did not fix an error on yo...</td>\n",
       "      <td>I have recently been informed again that there...</td>\n",
       "      <td>NaN</td>\n",
       "      <td>Jon Barry and Associates, Inc.</td>\n",
       "      <td>GA</td>\n",
       "      <td>31321.0</td>\n",
       "      <td>NaN</td>\n",
       "      <td>Consent provided</td>\n",
       "      <td>Web</td>\n",
       "      <td>2019-04-10</td>\n",
       "      <td>Closed with explanation</td>\n",
       "      <td>Yes</td>\n",
       "      <td>NaN</td>\n",
       "      <td>3207366</td>\n",
       "    </tr>\n",
       "    <tr>\n",
       "      <th>4</th>\n",
       "      <td>2020-03-09</td>\n",
       "      <td>Mortgage</td>\n",
       "      <td>FHA mortgage</td>\n",
       "      <td>Struggling to pay mortgage</td>\n",
       "      <td>NaN</td>\n",
       "      <td>In XXXX I had a loan modification with wellsfa...</td>\n",
       "      <td>Company has responded to the consumer and the ...</td>\n",
       "      <td>WELLS FARGO &amp; COMPANY</td>\n",
       "      <td>PA</td>\n",
       "      <td>19151.0</td>\n",
       "      <td>NaN</td>\n",
       "      <td>Consent provided</td>\n",
       "      <td>Web</td>\n",
       "      <td>2020-03-11</td>\n",
       "      <td>Closed with explanation</td>\n",
       "      <td>Yes</td>\n",
       "      <td>NaN</td>\n",
       "      <td>3559311</td>\n",
       "    </tr>\n",
       "  </tbody>\n",
       "</table>\n",
       "</div>"
      ],
      "text/plain": [
       "  Date received                                            Product  \\\n",
       "0    2019-05-03                                       Student loan   \n",
       "1    2022-01-14  Credit reporting, credit repair services, or o...   \n",
       "2    2019-08-18  Credit reporting, credit repair services, or o...   \n",
       "3    2019-04-10  Credit reporting, credit repair services, or o...   \n",
       "4    2020-03-09                                           Mortgage   \n",
       "\n",
       "                      Sub-product  \\\n",
       "0            Private student loan   \n",
       "1  Other personal consumer report   \n",
       "2                Credit reporting   \n",
       "3                Credit reporting   \n",
       "4                    FHA mortgage   \n",
       "\n",
       "                                               Issue  \\\n",
       "0                      Struggling to repay your loan   \n",
       "1               Incorrect information on your report   \n",
       "2  Problem with a credit reporting company's inve...   \n",
       "3  Problem with a credit reporting company's inve...   \n",
       "4                         Struggling to pay mortgage   \n",
       "\n",
       "                                           Sub-issue  \\\n",
       "0  Can't get other flexible options for repaying ...   \n",
       "1  Information that should be on the report is mi...   \n",
       "2  Their investigation did not fix an error on yo...   \n",
       "3  Their investigation did not fix an error on yo...   \n",
       "4                                                NaN   \n",
       "\n",
       "                        Consumer complaint narrative  \\\n",
       "0                                                NaN   \n",
       "1                                                NaN   \n",
       "2  TransUnion, LLC conducted an investigation int...   \n",
       "3  I have recently been informed again that there...   \n",
       "4  In XXXX I had a loan modification with wellsfa...   \n",
       "\n",
       "                             Company public response  \\\n",
       "0                                                NaN   \n",
       "1                                                NaN   \n",
       "2  Company has responded to the consumer and the ...   \n",
       "3                                                NaN   \n",
       "4  Company has responded to the consumer and the ...   \n",
       "\n",
       "                                  Company State ZIP code Tags  \\\n",
       "0                     Ameritech Financial    FL  33023.0  NaN   \n",
       "1  TRANSUNION INTERMEDIATE HOLDINGS, INC.    TN  38008.0  NaN   \n",
       "2  TRANSUNION INTERMEDIATE HOLDINGS, INC.    CA  90640.0  NaN   \n",
       "3          Jon Barry and Associates, Inc.    GA  31321.0  NaN   \n",
       "4                   WELLS FARGO & COMPANY    PA  19151.0  NaN   \n",
       "\n",
       "  Consumer consent provided? Submitted via Date sent to company  \\\n",
       "0       Consent not provided           Web           2019-05-15   \n",
       "1                        NaN           Web           2022-01-14   \n",
       "2           Consent provided           Web           2019-08-18   \n",
       "3           Consent provided           Web           2019-04-10   \n",
       "4           Consent provided           Web           2020-03-11   \n",
       "\n",
       "  Company response to consumer Timely response? Consumer disputed?  \\\n",
       "0            Untimely response               No                NaN   \n",
       "1                  In progress              Yes                NaN   \n",
       "2      Closed with explanation              Yes                NaN   \n",
       "3      Closed with explanation              Yes                NaN   \n",
       "4      Closed with explanation              Yes                NaN   \n",
       "\n",
       "   Complaint ID  \n",
       "0       3231257  \n",
       "1       5111195  \n",
       "2       3345092  \n",
       "3       3207366  \n",
       "4       3559311  "
      ]
     },
     "execution_count": 29,
     "metadata": {},
     "output_type": "execute_result"
    }
   ],
   "source": [
    "import pandas as pd\n",
    "df = pd.read_csv('Complaints.csv')\n",
    "df.head()"
   ]
  },
  {
   "cell_type": "code",
   "execution_count": 32,
   "id": "cd1a33b6-4706-4094-873b-9744cced5475",
   "metadata": {},
   "outputs": [],
   "source": [
    "df=df[['Product','Consumer complaint narrative']]"
   ]
  },
  {
   "cell_type": "code",
   "execution_count": 33,
   "id": "6736b05f-8fb6-426e-9dae-ce2e9d39033d",
   "metadata": {},
   "outputs": [],
   "source": [
    "df.columns=['Product','Consumer_complaint_narrative']"
   ]
  },
  {
   "cell_type": "code",
   "execution_count": 34,
   "id": "9919bf83-0221-48cb-82cb-45bb9d58960c",
   "metadata": {},
   "outputs": [
    {
     "data": {
      "text/plain": [
       "Product                               0\n",
       "Consumer_complaint_narrative    1583905\n",
       "dtype: int64"
      ]
     },
     "execution_count": 34,
     "metadata": {},
     "output_type": "execute_result"
    }
   ],
   "source": [
    "df.isnull().sum()"
   ]
  },
  {
   "cell_type": "code",
   "execution_count": 35,
   "id": "3beb6284-29fb-4e57-89d7-47d74f1afe83",
   "metadata": {},
   "outputs": [
    {
     "data": {
      "text/plain": [
       "(2432250, 2)"
      ]
     },
     "execution_count": 35,
     "metadata": {},
     "output_type": "execute_result"
    }
   ],
   "source": [
    "df.shape"
   ]
  },
  {
   "cell_type": "code",
   "execution_count": 36,
   "id": "f6fafbc4-d667-4ada-882f-88bff2240c35",
   "metadata": {},
   "outputs": [],
   "source": [
    "df=df.dropna()"
   ]
  },
  {
   "cell_type": "code",
   "execution_count": 37,
   "id": "149bb16c-f31f-407b-ad79-3044d8e7acdc",
   "metadata": {},
   "outputs": [],
   "source": [
    "df=df.reset_index(drop=True)"
   ]
  },
  {
   "cell_type": "code",
   "execution_count": 38,
   "id": "ba635ee6-03a6-473d-93f7-73d1577caf7e",
   "metadata": {},
   "outputs": [
    {
     "data": {
      "text/html": [
       "<div>\n",
       "<style scoped>\n",
       "    .dataframe tbody tr th:only-of-type {\n",
       "        vertical-align: middle;\n",
       "    }\n",
       "\n",
       "    .dataframe tbody tr th {\n",
       "        vertical-align: top;\n",
       "    }\n",
       "\n",
       "    .dataframe thead th {\n",
       "        text-align: right;\n",
       "    }\n",
       "</style>\n",
       "<table border=\"1\" class=\"dataframe\">\n",
       "  <thead>\n",
       "    <tr style=\"text-align: right;\">\n",
       "      <th></th>\n",
       "      <th>Product</th>\n",
       "      <th>Consumer_complaint_narrative</th>\n",
       "    </tr>\n",
       "  </thead>\n",
       "  <tbody>\n",
       "    <tr>\n",
       "      <th>0</th>\n",
       "      <td>Credit reporting, credit repair services, or o...</td>\n",
       "      <td>TransUnion, LLC conducted an investigation int...</td>\n",
       "    </tr>\n",
       "    <tr>\n",
       "      <th>1</th>\n",
       "      <td>Credit reporting, credit repair services, or o...</td>\n",
       "      <td>I have recently been informed again that there...</td>\n",
       "    </tr>\n",
       "    <tr>\n",
       "      <th>2</th>\n",
       "      <td>Mortgage</td>\n",
       "      <td>In XXXX I had a loan modification with wellsfa...</td>\n",
       "    </tr>\n",
       "    <tr>\n",
       "      <th>3</th>\n",
       "      <td>Credit reporting, credit repair services, or o...</td>\n",
       "      <td>MyinformationwasinvolvedintheEquifaxdatabreach...</td>\n",
       "    </tr>\n",
       "    <tr>\n",
       "      <th>4</th>\n",
       "      <td>Mortgage</td>\n",
       "      <td>In summary : On the morning of XX/XX/XXXX a fo...</td>\n",
       "    </tr>\n",
       "    <tr>\n",
       "      <th>...</th>\n",
       "      <td>...</td>\n",
       "      <td>...</td>\n",
       "    </tr>\n",
       "    <tr>\n",
       "      <th>848340</th>\n",
       "      <td>Credit card</td>\n",
       "      <td>Automated calls from \" XXXX with Capital One '...</td>\n",
       "    </tr>\n",
       "    <tr>\n",
       "      <th>848341</th>\n",
       "      <td>Debt collection</td>\n",
       "      <td>I have disputed my debts several times with no...</td>\n",
       "    </tr>\n",
       "    <tr>\n",
       "      <th>848342</th>\n",
       "      <td>Mortgage</td>\n",
       "      <td>My father died in XX/XX/XXXX. Left me his only...</td>\n",
       "    </tr>\n",
       "    <tr>\n",
       "      <th>848343</th>\n",
       "      <td>Credit reporting</td>\n",
       "      <td>cfbp i would Like to file a complaint on Exper...</td>\n",
       "    </tr>\n",
       "    <tr>\n",
       "      <th>848344</th>\n",
       "      <td>Credit reporting</td>\n",
       "      <td>My husband and I are in the middle of an FHA S...</td>\n",
       "    </tr>\n",
       "  </tbody>\n",
       "</table>\n",
       "<p>848345 rows × 2 columns</p>\n",
       "</div>"
      ],
      "text/plain": [
       "                                                  Product  \\\n",
       "0       Credit reporting, credit repair services, or o...   \n",
       "1       Credit reporting, credit repair services, or o...   \n",
       "2                                                Mortgage   \n",
       "3       Credit reporting, credit repair services, or o...   \n",
       "4                                                Mortgage   \n",
       "...                                                   ...   \n",
       "848340                                        Credit card   \n",
       "848341                                    Debt collection   \n",
       "848342                                           Mortgage   \n",
       "848343                                   Credit reporting   \n",
       "848344                                   Credit reporting   \n",
       "\n",
       "                             Consumer_complaint_narrative  \n",
       "0       TransUnion, LLC conducted an investigation int...  \n",
       "1       I have recently been informed again that there...  \n",
       "2       In XXXX I had a loan modification with wellsfa...  \n",
       "3       MyinformationwasinvolvedintheEquifaxdatabreach...  \n",
       "4       In summary : On the morning of XX/XX/XXXX a fo...  \n",
       "...                                                   ...  \n",
       "848340  Automated calls from \" XXXX with Capital One '...  \n",
       "848341  I have disputed my debts several times with no...  \n",
       "848342  My father died in XX/XX/XXXX. Left me his only...  \n",
       "848343  cfbp i would Like to file a complaint on Exper...  \n",
       "848344  My husband and I are in the middle of an FHA S...  \n",
       "\n",
       "[848345 rows x 2 columns]"
      ]
     },
     "execution_count": 38,
     "metadata": {},
     "output_type": "execute_result"
    }
   ],
   "source": [
    "df"
   ]
  },
  {
   "cell_type": "code",
   "execution_count": 39,
   "id": "ef6d11d5-1fc7-4347-b0a2-2e5a76f9df8c",
   "metadata": {},
   "outputs": [
    {
     "data": {
      "text/plain": [
       "Credit reporting, credit repair services, or other personal consumer reports    336918\n",
       "Debt collection                                                                 164167\n",
       "Mortgage                                                                         86934\n",
       "Credit card or prepaid card                                                      64261\n",
       "Checking or savings account                                                      39806\n",
       "Credit reporting                                                                 31588\n",
       "Student loan                                                                     29610\n",
       "Money transfer, virtual currency, or money service                               19980\n",
       "Credit card                                                                      18838\n",
       "Vehicle loan or lease                                                            15952\n",
       "Bank account or service                                                          14885\n",
       "Payday loan, title loan, or personal loan                                        10935\n",
       "Consumer Loan                                                                     9470\n",
       "Payday loan                                                                       1746\n",
       "Money transfers                                                                   1497\n",
       "Prepaid card                                                                      1450\n",
       "Other financial service                                                            292\n",
       "Virtual currency                                                                    16\n",
       "Name: Product, dtype: int64"
      ]
     },
     "execution_count": 39,
     "metadata": {},
     "output_type": "execute_result"
    }
   ],
   "source": [
    "df['Product'].value_counts()"
   ]
  },
  {
   "cell_type": "code",
   "execution_count": 40,
   "id": "95399742-53c5-4f66-93e8-d041db3d964b",
   "metadata": {},
   "outputs": [],
   "source": [
    "df['Category_id']=df['Product'].factorize()[0]"
   ]
  },
  {
   "cell_type": "code",
   "execution_count": 41,
   "id": "a07e068a-abd8-4a6b-8c04-3b9431787cbe",
   "metadata": {},
   "outputs": [],
   "source": [
    "category_id_df=df[['Product','Category_id']]"
   ]
  },
  {
   "cell_type": "code",
   "execution_count": 42,
   "id": "174e9b76-a6e3-42f1-83b7-9c447d1a9d03",
   "metadata": {},
   "outputs": [],
   "source": [
    "category_id_df=category_id_df.drop_duplicates()"
   ]
  },
  {
   "cell_type": "code",
   "execution_count": 43,
   "id": "fa2cc949-bf99-408e-9a5f-dcace5053f04",
   "metadata": {},
   "outputs": [
    {
     "data": {
      "text/html": [
       "<div>\n",
       "<style scoped>\n",
       "    .dataframe tbody tr th:only-of-type {\n",
       "        vertical-align: middle;\n",
       "    }\n",
       "\n",
       "    .dataframe tbody tr th {\n",
       "        vertical-align: top;\n",
       "    }\n",
       "\n",
       "    .dataframe thead th {\n",
       "        text-align: right;\n",
       "    }\n",
       "</style>\n",
       "<table border=\"1\" class=\"dataframe\">\n",
       "  <thead>\n",
       "    <tr style=\"text-align: right;\">\n",
       "      <th></th>\n",
       "      <th>Product</th>\n",
       "      <th>Category_id</th>\n",
       "    </tr>\n",
       "  </thead>\n",
       "  <tbody>\n",
       "    <tr>\n",
       "      <th>0</th>\n",
       "      <td>Credit reporting, credit repair services, or o...</td>\n",
       "      <td>0</td>\n",
       "    </tr>\n",
       "    <tr>\n",
       "      <th>1</th>\n",
       "      <td>Mortgage</td>\n",
       "      <td>1</td>\n",
       "    </tr>\n",
       "    <tr>\n",
       "      <th>2</th>\n",
       "      <td>Debt collection</td>\n",
       "      <td>2</td>\n",
       "    </tr>\n",
       "    <tr>\n",
       "      <th>3</th>\n",
       "      <td>Checking or savings account</td>\n",
       "      <td>3</td>\n",
       "    </tr>\n",
       "    <tr>\n",
       "      <th>4</th>\n",
       "      <td>Credit card or prepaid card</td>\n",
       "      <td>4</td>\n",
       "    </tr>\n",
       "    <tr>\n",
       "      <th>5</th>\n",
       "      <td>Student loan</td>\n",
       "      <td>5</td>\n",
       "    </tr>\n",
       "    <tr>\n",
       "      <th>6</th>\n",
       "      <td>Money transfer, virtual currency, or money ser...</td>\n",
       "      <td>6</td>\n",
       "    </tr>\n",
       "    <tr>\n",
       "      <th>7</th>\n",
       "      <td>Bank account or service</td>\n",
       "      <td>7</td>\n",
       "    </tr>\n",
       "    <tr>\n",
       "      <th>8</th>\n",
       "      <td>Vehicle loan or lease</td>\n",
       "      <td>8</td>\n",
       "    </tr>\n",
       "    <tr>\n",
       "      <th>9</th>\n",
       "      <td>Credit reporting</td>\n",
       "      <td>9</td>\n",
       "    </tr>\n",
       "    <tr>\n",
       "      <th>10</th>\n",
       "      <td>Payday loan, title loan, or personal loan</td>\n",
       "      <td>10</td>\n",
       "    </tr>\n",
       "    <tr>\n",
       "      <th>11</th>\n",
       "      <td>Credit card</td>\n",
       "      <td>11</td>\n",
       "    </tr>\n",
       "    <tr>\n",
       "      <th>12</th>\n",
       "      <td>Consumer Loan</td>\n",
       "      <td>12</td>\n",
       "    </tr>\n",
       "    <tr>\n",
       "      <th>13</th>\n",
       "      <td>Money transfers</td>\n",
       "      <td>13</td>\n",
       "    </tr>\n",
       "    <tr>\n",
       "      <th>14</th>\n",
       "      <td>Payday loan</td>\n",
       "      <td>14</td>\n",
       "    </tr>\n",
       "    <tr>\n",
       "      <th>15</th>\n",
       "      <td>Prepaid card</td>\n",
       "      <td>15</td>\n",
       "    </tr>\n",
       "    <tr>\n",
       "      <th>16</th>\n",
       "      <td>Other financial service</td>\n",
       "      <td>16</td>\n",
       "    </tr>\n",
       "    <tr>\n",
       "      <th>17</th>\n",
       "      <td>Virtual currency</td>\n",
       "      <td>17</td>\n",
       "    </tr>\n",
       "  </tbody>\n",
       "</table>\n",
       "</div>"
      ],
      "text/plain": [
       "                                              Product  Category_id\n",
       "0   Credit reporting, credit repair services, or o...            0\n",
       "1                                            Mortgage            1\n",
       "2                                     Debt collection            2\n",
       "3                         Checking or savings account            3\n",
       "4                         Credit card or prepaid card            4\n",
       "5                                        Student loan            5\n",
       "6   Money transfer, virtual currency, or money ser...            6\n",
       "7                             Bank account or service            7\n",
       "8                               Vehicle loan or lease            8\n",
       "9                                    Credit reporting            9\n",
       "10          Payday loan, title loan, or personal loan           10\n",
       "11                                        Credit card           11\n",
       "12                                      Consumer Loan           12\n",
       "13                                    Money transfers           13\n",
       "14                                        Payday loan           14\n",
       "15                                       Prepaid card           15\n",
       "16                            Other financial service           16\n",
       "17                                   Virtual currency           17"
      ]
     },
     "execution_count": 43,
     "metadata": {},
     "output_type": "execute_result"
    }
   ],
   "source": [
    "category_id_df=category_id_df.reset_index(drop=True)\n",
    "category_id_df"
   ]
  },
  {
   "cell_type": "code",
   "execution_count": 44,
   "id": "112c1745-4407-4270-ac1b-2237aed11a7c",
   "metadata": {},
   "outputs": [],
   "source": [
    "category_to_id = dict(category_id_df.values)"
   ]
  },
  {
   "cell_type": "code",
   "execution_count": 45,
   "id": "c318ad62-6172-4478-94ff-e83a4ebe5d97",
   "metadata": {},
   "outputs": [
    {
     "data": {
      "text/plain": [
       "{'Credit reporting, credit repair services, or other personal consumer reports': 0,\n",
       " 'Mortgage': 1,\n",
       " 'Debt collection': 2,\n",
       " 'Checking or savings account': 3,\n",
       " 'Credit card or prepaid card': 4,\n",
       " 'Student loan': 5,\n",
       " 'Money transfer, virtual currency, or money service': 6,\n",
       " 'Bank account or service': 7,\n",
       " 'Vehicle loan or lease': 8,\n",
       " 'Credit reporting': 9,\n",
       " 'Payday loan, title loan, or personal loan': 10,\n",
       " 'Credit card': 11,\n",
       " 'Consumer Loan': 12,\n",
       " 'Money transfers': 13,\n",
       " 'Payday loan': 14,\n",
       " 'Prepaid card': 15,\n",
       " 'Other financial service': 16,\n",
       " 'Virtual currency': 17}"
      ]
     },
     "execution_count": 45,
     "metadata": {},
     "output_type": "execute_result"
    }
   ],
   "source": [
    "category_to_id"
   ]
  },
  {
   "cell_type": "code",
   "execution_count": 46,
   "id": "cde8cde9-cfff-4092-b25a-2d7cbebed015",
   "metadata": {},
   "outputs": [],
   "source": [
    "id_to_category=dict(category_id_df[['Category_id','Product']])"
   ]
  },
  {
   "cell_type": "code",
   "execution_count": 47,
   "id": "8d1727e4-9d4c-4b1c-ae52-74fee85b814a",
   "metadata": {},
   "outputs": [],
   "source": [
    "#The classifiers and learning algorithms can not directly process the text documents in their original form, as most of them expect numerical feature vectors\n",
    "#with a fixed size rather than the raw text documents with variable length. Therefore, during the preprocessing step, the texts are converted to a more manageable representation."
   ]
  },
  {
   "cell_type": "code",
   "execution_count": 93,
   "id": "71856c94-526e-4b4d-bbbb-8e16c3b5da79",
   "metadata": {},
   "outputs": [
    {
     "ename": "MemoryError",
     "evalue": "Unable to allocate 7.66 TiB for an array with shape (848345, 1241070) and data type float64",
     "output_type": "error",
     "traceback": [
      "\u001b[1;31m---------------------------------------------------------------------------\u001b[0m",
      "\u001b[1;31mMemoryError\u001b[0m                               Traceback (most recent call last)",
      "\u001b[1;32m~\\AppData\\Local\\Temp/ipykernel_21988/2590947094.py\u001b[0m in \u001b[0;36m<module>\u001b[1;34m\u001b[0m\n\u001b[0;32m      3\u001b[0m \u001b[0mtfidf\u001b[0m \u001b[1;33m=\u001b[0m \u001b[0mTfidfVectorizer\u001b[0m \u001b[1;33m(\u001b[0m\u001b[0msublinear_tf\u001b[0m\u001b[1;33m=\u001b[0m\u001b[1;32mTrue\u001b[0m\u001b[1;33m,\u001b[0m \u001b[0mmin_df\u001b[0m\u001b[1;33m=\u001b[0m\u001b[1;36m5\u001b[0m\u001b[1;33m,\u001b[0m \u001b[0mencoding\u001b[0m\u001b[1;33m=\u001b[0m\u001b[1;34m'latin-1'\u001b[0m\u001b[1;33m,\u001b[0m \u001b[0mngram_range\u001b[0m\u001b[1;33m=\u001b[0m\u001b[1;33m(\u001b[0m\u001b[1;36m1\u001b[0m\u001b[1;33m,\u001b[0m\u001b[1;36m2\u001b[0m\u001b[1;33m)\u001b[0m\u001b[1;33m,\u001b[0m \u001b[0mstop_words\u001b[0m\u001b[1;33m=\u001b[0m\u001b[1;34m'english'\u001b[0m\u001b[1;33m)\u001b[0m\u001b[1;33m\u001b[0m\u001b[1;33m\u001b[0m\u001b[0m\n\u001b[0;32m      4\u001b[0m \u001b[1;33m\u001b[0m\u001b[0m\n\u001b[1;32m----> 5\u001b[1;33m \u001b[0mfeatures\u001b[0m\u001b[1;33m=\u001b[0m\u001b[0mtfidf\u001b[0m\u001b[1;33m.\u001b[0m\u001b[0mfit_transform\u001b[0m\u001b[1;33m(\u001b[0m\u001b[0mdf\u001b[0m\u001b[1;33m.\u001b[0m\u001b[0mConsumer_complaint_narrative\u001b[0m\u001b[1;33m)\u001b[0m\u001b[1;33m.\u001b[0m\u001b[0mtoarray\u001b[0m\u001b[1;33m(\u001b[0m\u001b[1;33m)\u001b[0m\u001b[1;33m\u001b[0m\u001b[1;33m\u001b[0m\u001b[0m\n\u001b[0m\u001b[0;32m      6\u001b[0m \u001b[0mlabels\u001b[0m\u001b[1;33m=\u001b[0m\u001b[0mdf\u001b[0m\u001b[1;33m.\u001b[0m\u001b[0mcategory_id\u001b[0m\u001b[1;33m\u001b[0m\u001b[1;33m\u001b[0m\u001b[0m\n\u001b[0;32m      7\u001b[0m \u001b[0mfeatures\u001b[0m\u001b[1;33m.\u001b[0m\u001b[0mshape\u001b[0m\u001b[1;33m\u001b[0m\u001b[1;33m\u001b[0m\u001b[0m\n",
      "\u001b[1;32m~\\anaconda3\\lib\\site-packages\\scipy\\sparse\\compressed.py\u001b[0m in \u001b[0;36mtoarray\u001b[1;34m(self, order, out)\u001b[0m\n\u001b[0;32m   1029\u001b[0m         \u001b[1;32mif\u001b[0m \u001b[0mout\u001b[0m \u001b[1;32mis\u001b[0m \u001b[1;32mNone\u001b[0m \u001b[1;32mand\u001b[0m \u001b[0morder\u001b[0m \u001b[1;32mis\u001b[0m \u001b[1;32mNone\u001b[0m\u001b[1;33m:\u001b[0m\u001b[1;33m\u001b[0m\u001b[1;33m\u001b[0m\u001b[0m\n\u001b[0;32m   1030\u001b[0m             \u001b[0morder\u001b[0m \u001b[1;33m=\u001b[0m \u001b[0mself\u001b[0m\u001b[1;33m.\u001b[0m\u001b[0m_swap\u001b[0m\u001b[1;33m(\u001b[0m\u001b[1;34m'cf'\u001b[0m\u001b[1;33m)\u001b[0m\u001b[1;33m[\u001b[0m\u001b[1;36m0\u001b[0m\u001b[1;33m]\u001b[0m\u001b[1;33m\u001b[0m\u001b[1;33m\u001b[0m\u001b[0m\n\u001b[1;32m-> 1031\u001b[1;33m         \u001b[0mout\u001b[0m \u001b[1;33m=\u001b[0m \u001b[0mself\u001b[0m\u001b[1;33m.\u001b[0m\u001b[0m_process_toarray_args\u001b[0m\u001b[1;33m(\u001b[0m\u001b[0morder\u001b[0m\u001b[1;33m,\u001b[0m \u001b[0mout\u001b[0m\u001b[1;33m)\u001b[0m\u001b[1;33m\u001b[0m\u001b[1;33m\u001b[0m\u001b[0m\n\u001b[0m\u001b[0;32m   1032\u001b[0m         \u001b[1;32mif\u001b[0m \u001b[1;32mnot\u001b[0m \u001b[1;33m(\u001b[0m\u001b[0mout\u001b[0m\u001b[1;33m.\u001b[0m\u001b[0mflags\u001b[0m\u001b[1;33m.\u001b[0m\u001b[0mc_contiguous\u001b[0m \u001b[1;32mor\u001b[0m \u001b[0mout\u001b[0m\u001b[1;33m.\u001b[0m\u001b[0mflags\u001b[0m\u001b[1;33m.\u001b[0m\u001b[0mf_contiguous\u001b[0m\u001b[1;33m)\u001b[0m\u001b[1;33m:\u001b[0m\u001b[1;33m\u001b[0m\u001b[1;33m\u001b[0m\u001b[0m\n\u001b[0;32m   1033\u001b[0m             \u001b[1;32mraise\u001b[0m \u001b[0mValueError\u001b[0m\u001b[1;33m(\u001b[0m\u001b[1;34m'Output array must be C or F contiguous'\u001b[0m\u001b[1;33m)\u001b[0m\u001b[1;33m\u001b[0m\u001b[1;33m\u001b[0m\u001b[0m\n",
      "\u001b[1;32m~\\anaconda3\\lib\\site-packages\\scipy\\sparse\\base.py\u001b[0m in \u001b[0;36m_process_toarray_args\u001b[1;34m(self, order, out)\u001b[0m\n\u001b[0;32m   1200\u001b[0m             \u001b[1;32mreturn\u001b[0m \u001b[0mout\u001b[0m\u001b[1;33m\u001b[0m\u001b[1;33m\u001b[0m\u001b[0m\n\u001b[0;32m   1201\u001b[0m         \u001b[1;32melse\u001b[0m\u001b[1;33m:\u001b[0m\u001b[1;33m\u001b[0m\u001b[1;33m\u001b[0m\u001b[0m\n\u001b[1;32m-> 1202\u001b[1;33m             \u001b[1;32mreturn\u001b[0m \u001b[0mnp\u001b[0m\u001b[1;33m.\u001b[0m\u001b[0mzeros\u001b[0m\u001b[1;33m(\u001b[0m\u001b[0mself\u001b[0m\u001b[1;33m.\u001b[0m\u001b[0mshape\u001b[0m\u001b[1;33m,\u001b[0m \u001b[0mdtype\u001b[0m\u001b[1;33m=\u001b[0m\u001b[0mself\u001b[0m\u001b[1;33m.\u001b[0m\u001b[0mdtype\u001b[0m\u001b[1;33m,\u001b[0m \u001b[0morder\u001b[0m\u001b[1;33m=\u001b[0m\u001b[0morder\u001b[0m\u001b[1;33m)\u001b[0m\u001b[1;33m\u001b[0m\u001b[1;33m\u001b[0m\u001b[0m\n\u001b[0m\u001b[0;32m   1203\u001b[0m \u001b[1;33m\u001b[0m\u001b[0m\n\u001b[0;32m   1204\u001b[0m \u001b[1;33m\u001b[0m\u001b[0m\n",
      "\u001b[1;31mMemoryError\u001b[0m: Unable to allocate 7.66 TiB for an array with shape (848345, 1241070) and data type float64"
     ]
    }
   ],
   "source": [
    "from sklearn.feature_extraction.text import TfidfVectorizer\n",
    "\n",
    "tfidf = TfidfVectorizer (sublinear_tf=True, min_df=5, encoding='latin-1', ngram_range=(1,2), stop_words='english')\n",
    "\n",
    "features=tfidf.fit_transform(df.Consumer_complaint_narrative).toarray()\n",
    "labels=df.category_id\n",
    "features.shape"
   ]
  },
  {
   "cell_type": "code",
   "execution_count": 53,
   "id": "edb6ef80-8c5c-4d04-9311-cbb1d9c030d6",
   "metadata": {},
   "outputs": [
    {
     "data": {
      "text/html": [
       "<div>\n",
       "<style scoped>\n",
       "    .dataframe tbody tr th:only-of-type {\n",
       "        vertical-align: middle;\n",
       "    }\n",
       "\n",
       "    .dataframe tbody tr th {\n",
       "        vertical-align: top;\n",
       "    }\n",
       "\n",
       "    .dataframe thead th {\n",
       "        text-align: right;\n",
       "    }\n",
       "</style>\n",
       "<table border=\"1\" class=\"dataframe\">\n",
       "  <thead>\n",
       "    <tr style=\"text-align: right;\">\n",
       "      <th></th>\n",
       "      <th>Product</th>\n",
       "      <th>Consumer_complaint_narrative</th>\n",
       "      <th>Category_id</th>\n",
       "    </tr>\n",
       "  </thead>\n",
       "  <tbody>\n",
       "    <tr>\n",
       "      <th>0</th>\n",
       "      <td>Credit reporting, credit repair services, or o...</td>\n",
       "      <td>TransUnion, LLC conducted an investigation int...</td>\n",
       "      <td>0</td>\n",
       "    </tr>\n",
       "    <tr>\n",
       "      <th>1</th>\n",
       "      <td>Credit reporting, credit repair services, or o...</td>\n",
       "      <td>I have recently been informed again that there...</td>\n",
       "      <td>0</td>\n",
       "    </tr>\n",
       "    <tr>\n",
       "      <th>2</th>\n",
       "      <td>Mortgage</td>\n",
       "      <td>In XXXX I had a loan modification with wellsfa...</td>\n",
       "      <td>1</td>\n",
       "    </tr>\n",
       "    <tr>\n",
       "      <th>3</th>\n",
       "      <td>Credit reporting, credit repair services, or o...</td>\n",
       "      <td>MyinformationwasinvolvedintheEquifaxdatabreach...</td>\n",
       "      <td>0</td>\n",
       "    </tr>\n",
       "    <tr>\n",
       "      <th>4</th>\n",
       "      <td>Mortgage</td>\n",
       "      <td>In summary : On the morning of XX/XX/XXXX a fo...</td>\n",
       "      <td>1</td>\n",
       "    </tr>\n",
       "    <tr>\n",
       "      <th>...</th>\n",
       "      <td>...</td>\n",
       "      <td>...</td>\n",
       "      <td>...</td>\n",
       "    </tr>\n",
       "    <tr>\n",
       "      <th>848340</th>\n",
       "      <td>Credit card</td>\n",
       "      <td>Automated calls from \" XXXX with Capital One '...</td>\n",
       "      <td>11</td>\n",
       "    </tr>\n",
       "    <tr>\n",
       "      <th>848341</th>\n",
       "      <td>Debt collection</td>\n",
       "      <td>I have disputed my debts several times with no...</td>\n",
       "      <td>2</td>\n",
       "    </tr>\n",
       "    <tr>\n",
       "      <th>848342</th>\n",
       "      <td>Mortgage</td>\n",
       "      <td>My father died in XX/XX/XXXX. Left me his only...</td>\n",
       "      <td>1</td>\n",
       "    </tr>\n",
       "    <tr>\n",
       "      <th>848343</th>\n",
       "      <td>Credit reporting</td>\n",
       "      <td>cfbp i would Like to file a complaint on Exper...</td>\n",
       "      <td>9</td>\n",
       "    </tr>\n",
       "    <tr>\n",
       "      <th>848344</th>\n",
       "      <td>Credit reporting</td>\n",
       "      <td>My husband and I are in the middle of an FHA S...</td>\n",
       "      <td>9</td>\n",
       "    </tr>\n",
       "  </tbody>\n",
       "</table>\n",
       "<p>848345 rows × 3 columns</p>\n",
       "</div>"
      ],
      "text/plain": [
       "                                                  Product  \\\n",
       "0       Credit reporting, credit repair services, or o...   \n",
       "1       Credit reporting, credit repair services, or o...   \n",
       "2                                                Mortgage   \n",
       "3       Credit reporting, credit repair services, or o...   \n",
       "4                                                Mortgage   \n",
       "...                                                   ...   \n",
       "848340                                        Credit card   \n",
       "848341                                    Debt collection   \n",
       "848342                                           Mortgage   \n",
       "848343                                   Credit reporting   \n",
       "848344                                   Credit reporting   \n",
       "\n",
       "                             Consumer_complaint_narrative  Category_id  \n",
       "0       TransUnion, LLC conducted an investigation int...            0  \n",
       "1       I have recently been informed again that there...            0  \n",
       "2       In XXXX I had a loan modification with wellsfa...            1  \n",
       "3       MyinformationwasinvolvedintheEquifaxdatabreach...            0  \n",
       "4       In summary : On the morning of XX/XX/XXXX a fo...            1  \n",
       "...                                                   ...          ...  \n",
       "848340  Automated calls from \" XXXX with Capital One '...           11  \n",
       "848341  I have disputed my debts several times with no...            2  \n",
       "848342  My father died in XX/XX/XXXX. Left me his only...            1  \n",
       "848343  cfbp i would Like to file a complaint on Exper...            9  \n",
       "848344  My husband and I are in the middle of an FHA S...            9  \n",
       "\n",
       "[848345 rows x 3 columns]"
      ]
     },
     "execution_count": 53,
     "metadata": {},
     "output_type": "execute_result"
    }
   ],
   "source": [
    "df"
   ]
  },
  {
   "cell_type": "code",
   "execution_count": 55,
   "id": "26371463-f288-44a7-bfd1-2751cb68b96e",
   "metadata": {},
   "outputs": [],
   "source": [
    "features = tfidf.fit_transform(df.Consumer_complaint_narrative)"
   ]
  },
  {
   "cell_type": "code",
   "execution_count": 56,
   "id": "d3eadea0-1e12-4a32-bca7-744b4f1e720c",
   "metadata": {
    "collapsed": true,
    "jupyter": {
     "outputs_hidden": true
    },
    "tags": []
   },
   "outputs": [
    {
     "ename": "MemoryError",
     "evalue": "Unable to allocate 7.66 TiB for an array with shape (848345, 1241070) and data type float64",
     "output_type": "error",
     "traceback": [
      "\u001b[1;31m---------------------------------------------------------------------------\u001b[0m",
      "\u001b[1;31mMemoryError\u001b[0m                               Traceback (most recent call last)",
      "\u001b[1;32m~\\AppData\\Local\\Temp/ipykernel_21988/2221242813.py\u001b[0m in \u001b[0;36m<module>\u001b[1;34m\u001b[0m\n\u001b[1;32m----> 1\u001b[1;33m \u001b[0mfeatures\u001b[0m\u001b[1;33m=\u001b[0m\u001b[0mfeatures\u001b[0m\u001b[1;33m.\u001b[0m\u001b[0mtoarray\u001b[0m\u001b[1;33m(\u001b[0m\u001b[1;33m)\u001b[0m\u001b[1;33m\u001b[0m\u001b[1;33m\u001b[0m\u001b[0m\n\u001b[0m",
      "\u001b[1;32m~\\anaconda3\\lib\\site-packages\\scipy\\sparse\\compressed.py\u001b[0m in \u001b[0;36mtoarray\u001b[1;34m(self, order, out)\u001b[0m\n\u001b[0;32m   1029\u001b[0m         \u001b[1;32mif\u001b[0m \u001b[0mout\u001b[0m \u001b[1;32mis\u001b[0m \u001b[1;32mNone\u001b[0m \u001b[1;32mand\u001b[0m \u001b[0morder\u001b[0m \u001b[1;32mis\u001b[0m \u001b[1;32mNone\u001b[0m\u001b[1;33m:\u001b[0m\u001b[1;33m\u001b[0m\u001b[1;33m\u001b[0m\u001b[0m\n\u001b[0;32m   1030\u001b[0m             \u001b[0morder\u001b[0m \u001b[1;33m=\u001b[0m \u001b[0mself\u001b[0m\u001b[1;33m.\u001b[0m\u001b[0m_swap\u001b[0m\u001b[1;33m(\u001b[0m\u001b[1;34m'cf'\u001b[0m\u001b[1;33m)\u001b[0m\u001b[1;33m[\u001b[0m\u001b[1;36m0\u001b[0m\u001b[1;33m]\u001b[0m\u001b[1;33m\u001b[0m\u001b[1;33m\u001b[0m\u001b[0m\n\u001b[1;32m-> 1031\u001b[1;33m         \u001b[0mout\u001b[0m \u001b[1;33m=\u001b[0m \u001b[0mself\u001b[0m\u001b[1;33m.\u001b[0m\u001b[0m_process_toarray_args\u001b[0m\u001b[1;33m(\u001b[0m\u001b[0morder\u001b[0m\u001b[1;33m,\u001b[0m \u001b[0mout\u001b[0m\u001b[1;33m)\u001b[0m\u001b[1;33m\u001b[0m\u001b[1;33m\u001b[0m\u001b[0m\n\u001b[0m\u001b[0;32m   1032\u001b[0m         \u001b[1;32mif\u001b[0m \u001b[1;32mnot\u001b[0m \u001b[1;33m(\u001b[0m\u001b[0mout\u001b[0m\u001b[1;33m.\u001b[0m\u001b[0mflags\u001b[0m\u001b[1;33m.\u001b[0m\u001b[0mc_contiguous\u001b[0m \u001b[1;32mor\u001b[0m \u001b[0mout\u001b[0m\u001b[1;33m.\u001b[0m\u001b[0mflags\u001b[0m\u001b[1;33m.\u001b[0m\u001b[0mf_contiguous\u001b[0m\u001b[1;33m)\u001b[0m\u001b[1;33m:\u001b[0m\u001b[1;33m\u001b[0m\u001b[1;33m\u001b[0m\u001b[0m\n\u001b[0;32m   1033\u001b[0m             \u001b[1;32mraise\u001b[0m \u001b[0mValueError\u001b[0m\u001b[1;33m(\u001b[0m\u001b[1;34m'Output array must be C or F contiguous'\u001b[0m\u001b[1;33m)\u001b[0m\u001b[1;33m\u001b[0m\u001b[1;33m\u001b[0m\u001b[0m\n",
      "\u001b[1;32m~\\anaconda3\\lib\\site-packages\\scipy\\sparse\\base.py\u001b[0m in \u001b[0;36m_process_toarray_args\u001b[1;34m(self, order, out)\u001b[0m\n\u001b[0;32m   1200\u001b[0m             \u001b[1;32mreturn\u001b[0m \u001b[0mout\u001b[0m\u001b[1;33m\u001b[0m\u001b[1;33m\u001b[0m\u001b[0m\n\u001b[0;32m   1201\u001b[0m         \u001b[1;32melse\u001b[0m\u001b[1;33m:\u001b[0m\u001b[1;33m\u001b[0m\u001b[1;33m\u001b[0m\u001b[0m\n\u001b[1;32m-> 1202\u001b[1;33m             \u001b[1;32mreturn\u001b[0m \u001b[0mnp\u001b[0m\u001b[1;33m.\u001b[0m\u001b[0mzeros\u001b[0m\u001b[1;33m(\u001b[0m\u001b[0mself\u001b[0m\u001b[1;33m.\u001b[0m\u001b[0mshape\u001b[0m\u001b[1;33m,\u001b[0m \u001b[0mdtype\u001b[0m\u001b[1;33m=\u001b[0m\u001b[0mself\u001b[0m\u001b[1;33m.\u001b[0m\u001b[0mdtype\u001b[0m\u001b[1;33m,\u001b[0m \u001b[0morder\u001b[0m\u001b[1;33m=\u001b[0m\u001b[0morder\u001b[0m\u001b[1;33m)\u001b[0m\u001b[1;33m\u001b[0m\u001b[1;33m\u001b[0m\u001b[0m\n\u001b[0m\u001b[0;32m   1203\u001b[0m \u001b[1;33m\u001b[0m\u001b[0m\n\u001b[0;32m   1204\u001b[0m \u001b[1;33m\u001b[0m\u001b[0m\n",
      "\u001b[1;31mMemoryError\u001b[0m: Unable to allocate 7.66 TiB for an array with shape (848345, 1241070) and data type float64"
     ]
    }
   ],
   "source": [
    "#features=features.toarray()"
   ]
  },
  {
   "cell_type": "code",
   "execution_count": 57,
   "id": "aca7d492-cc84-4032-82ab-e431bc611676",
   "metadata": {},
   "outputs": [
    {
     "data": {
      "text/plain": [
       "(848345, 1241070)"
      ]
     },
     "execution_count": 57,
     "metadata": {},
     "output_type": "execute_result"
    }
   ],
   "source": [
    "features.shape"
   ]
  },
  {
   "cell_type": "code",
   "execution_count": 58,
   "id": "1effb3d8-88d6-4fa2-b4f0-835ec5856189",
   "metadata": {},
   "outputs": [],
   "source": [
    "from sklearn.model_selection import train_test_split\n",
    "from sklearn.feature_extraction.text import CountVectorizer\n",
    "from sklearn.feature_extraction.text import TfidfTransformer\n",
    "from sklearn.naive_bayes import MultinomialNB"
   ]
  },
  {
   "cell_type": "code",
   "execution_count": 59,
   "id": "630e436e-11a0-497d-8aee-fc0c93b1a45c",
   "metadata": {},
   "outputs": [],
   "source": [
    "X_train, X_test, y_train, y_test = train_test_split(df['Consumer_complaint_narrative'],df['Product'],random_state=0)"
   ]
  },
  {
   "cell_type": "code",
   "execution_count": 60,
   "id": "59232d86-64b4-4f27-9490-f53ba129747e",
   "metadata": {},
   "outputs": [],
   "source": [
    "count_vect = CountVectorizer()"
   ]
  },
  {
   "cell_type": "code",
   "execution_count": 61,
   "id": "2801aeb8-a9b7-4be4-8f17-28ac43117e89",
   "metadata": {},
   "outputs": [],
   "source": [
    "X_train_counts = count_vect.fit_transform(X_train)"
   ]
  },
  {
   "cell_type": "code",
   "execution_count": 66,
   "id": "b6822c39-d7d4-4c28-a2fd-e61f8cfce59c",
   "metadata": {},
   "outputs": [],
   "source": [
    "tfidf_transformer=TfidfTransformer()"
   ]
  },
  {
   "cell_type": "code",
   "execution_count": 67,
   "id": "b5ffdcd8-f426-4c78-b7b1-465e284cfb8c",
   "metadata": {},
   "outputs": [],
   "source": [
    "X_train_tfidf=tfidf_transformer.fit_transform(X_train_counts)"
   ]
  },
  {
   "cell_type": "code",
   "execution_count": 68,
   "id": "b695e28d-5f7b-4156-97e7-0dc475241284",
   "metadata": {},
   "outputs": [],
   "source": [
    "clf = MultinomialNB().fit(X_train_tfidf, y_train)"
   ]
  },
  {
   "cell_type": "code",
   "execution_count": 76,
   "id": "e2337c74-4ad5-41e5-b437-2e70bbd15df3",
   "metadata": {},
   "outputs": [],
   "source": [
    "text=\"This company refuses to provide me verification and validation of debt per my right under the FDCPA. I do not believe this is mine.\""
   ]
  },
  {
   "cell_type": "code",
   "execution_count": 77,
   "id": "0bc118bc-280a-4c59-91f8-a50de6f447a4",
   "metadata": {},
   "outputs": [
    {
     "data": {
      "text/plain": [
       "'This company refuses to provide me verification and validation of debt per my right under the FDCPA. I do not believe this is mine.'"
      ]
     },
     "execution_count": 77,
     "metadata": {},
     "output_type": "execute_result"
    }
   ],
   "source": [
    "text"
   ]
  },
  {
   "cell_type": "code",
   "execution_count": 78,
   "id": "fe11f071-fa53-4a64-bffc-6a298e1db2d3",
   "metadata": {},
   "outputs": [],
   "source": [
    "text_count_vect=count_vect.transform([text])"
   ]
  },
  {
   "cell_type": "code",
   "execution_count": 79,
   "id": "339f74c1-114c-4d66-8505-9f58f3dbda39",
   "metadata": {},
   "outputs": [
    {
     "data": {
      "text/plain": [
       "<1x141548 sparse matrix of type '<class 'numpy.int64'>'\n",
       "\twith 22 stored elements in Compressed Sparse Row format>"
      ]
     },
     "execution_count": 79,
     "metadata": {},
     "output_type": "execute_result"
    }
   ],
   "source": [
    "text_count_vect"
   ]
  },
  {
   "cell_type": "code",
   "execution_count": 80,
   "id": "8c4842a2-62ed-4882-b624-1562bddf752e",
   "metadata": {},
   "outputs": [
    {
     "data": {
      "text/plain": [
       "array(['Debt collection'], dtype='<U76')"
      ]
     },
     "execution_count": 80,
     "metadata": {},
     "output_type": "execute_result"
    }
   ],
   "source": [
    "clf.predict(text_count_vect)"
   ]
  },
  {
   "cell_type": "code",
   "execution_count": 81,
   "id": "fcde5615-a8e2-4cba-b113-e0908aa7ccca",
   "metadata": {},
   "outputs": [],
   "source": [
    "#MOdel Selection\n",
    "#Logistic Regression\n",
    "#MNB\n",
    "#Linear Support Vector Machine\n",
    "#Random Forest\n"
   ]
  },
  {
   "cell_type": "code",
   "execution_count": 84,
   "id": "cdc360cd-cb5f-475d-9024-cc93357e9b96",
   "metadata": {},
   "outputs": [],
   "source": [
    "from sklearn.linear_model import LogisticRegression\n",
    "from sklearn.ensemble import RandomForestClassifier\n",
    "from sklearn.svm import LinearSVC"
   ]
  },
  {
   "cell_type": "code",
   "execution_count": 85,
   "id": "8d962e34-2e80-40e7-b13e-bf1ce5af6684",
   "metadata": {},
   "outputs": [],
   "source": [
    "from sklearn.model_selection import cross_val_score"
   ]
  },
  {
   "cell_type": "code",
   "execution_count": 87,
   "id": "81b4a416-53cc-48e7-868f-46300728f83f",
   "metadata": {},
   "outputs": [],
   "source": [
    "models = [RandomForestClassifier(n_estimators=200, max_depth=3,random_state = 0),\n",
    "          LinearSVC(),\n",
    "          MultinomialNB(),\n",
    "          LogisticRegression(random_state=0),\n",
    "         ]"
   ]
  },
  {
   "cell_type": "code",
   "execution_count": 91,
   "id": "e94be5fe-63b6-4852-a836-5bd9bb04f53e",
   "metadata": {},
   "outputs": [],
   "source": [
    "CV = 5\n",
    "cv_df = pd.DataFrame(index=range(CV* len(models)))\n",
    "entries = []\n"
   ]
  },
  {
   "cell_type": "code",
   "execution_count": 92,
   "id": "7d0b9362-3add-40b9-93a6-e353c3367fd7",
   "metadata": {},
   "outputs": [
    {
     "ename": "NameError",
     "evalue": "name 'labels' is not defined",
     "output_type": "error",
     "traceback": [
      "\u001b[1;31m---------------------------------------------------------------------------\u001b[0m",
      "\u001b[1;31mNameError\u001b[0m                                 Traceback (most recent call last)",
      "\u001b[1;32m~\\AppData\\Local\\Temp/ipykernel_21988/2490931426.py\u001b[0m in \u001b[0;36m<module>\u001b[1;34m\u001b[0m\n\u001b[0;32m      1\u001b[0m \u001b[1;32mfor\u001b[0m \u001b[0mmodel\u001b[0m \u001b[1;32min\u001b[0m \u001b[0mmodels\u001b[0m\u001b[1;33m:\u001b[0m\u001b[1;33m\u001b[0m\u001b[1;33m\u001b[0m\u001b[0m\n\u001b[0;32m      2\u001b[0m     \u001b[0mmodel_name\u001b[0m \u001b[1;33m=\u001b[0m \u001b[0mmodel\u001b[0m\u001b[1;33m.\u001b[0m\u001b[0m__class__\u001b[0m\u001b[1;33m.\u001b[0m\u001b[0m__name__\u001b[0m\u001b[1;33m\u001b[0m\u001b[1;33m\u001b[0m\u001b[0m\n\u001b[1;32m----> 3\u001b[1;33m     \u001b[0maccuracies\u001b[0m \u001b[1;33m=\u001b[0m \u001b[0mcross_val_score\u001b[0m\u001b[1;33m(\u001b[0m\u001b[0mmodel\u001b[0m\u001b[1;33m,\u001b[0m \u001b[0mfeatures\u001b[0m\u001b[1;33m,\u001b[0m \u001b[0mlabels\u001b[0m\u001b[1;33m,\u001b[0m \u001b[0mscoring\u001b[0m\u001b[1;33m=\u001b[0m\u001b[1;34m'accuracy'\u001b[0m\u001b[1;33m,\u001b[0m \u001b[0mcv\u001b[0m\u001b[1;33m=\u001b[0m\u001b[0mCV\u001b[0m\u001b[1;33m)\u001b[0m\u001b[1;33m\u001b[0m\u001b[1;33m\u001b[0m\u001b[0m\n\u001b[0m\u001b[0;32m      4\u001b[0m     \u001b[1;32mfor\u001b[0m \u001b[0mfold_idx\u001b[0m\u001b[1;33m,\u001b[0m \u001b[0maccuracy\u001b[0m \u001b[1;32min\u001b[0m \u001b[0menumerate\u001b[0m\u001b[1;33m(\u001b[0m\u001b[0maccuracies\u001b[0m\u001b[1;33m)\u001b[0m\u001b[1;33m:\u001b[0m\u001b[1;33m\u001b[0m\u001b[1;33m\u001b[0m\u001b[0m\n\u001b[0;32m      5\u001b[0m         \u001b[0mentries\u001b[0m\u001b[1;33m.\u001b[0m\u001b[0mappend\u001b[0m\u001b[1;33m(\u001b[0m\u001b[1;33m(\u001b[0m\u001b[0mmodel_name\u001b[0m\u001b[1;33m,\u001b[0m \u001b[0mfold_idx\u001b[0m\u001b[1;33m,\u001b[0m \u001b[0maccuracy\u001b[0m\u001b[1;33m)\u001b[0m\u001b[1;33m)\u001b[0m\u001b[1;33m\u001b[0m\u001b[1;33m\u001b[0m\u001b[0m\n",
      "\u001b[1;31mNameError\u001b[0m: name 'labels' is not defined"
     ]
    }
   ],
   "source": [
    "for model in models:\n",
    "    model_name = model.__class__.__name__\n",
    "    accuracies = cross_val_score(model, features, labels, scoring='accuracy', cv=CV)\n",
    "    for fold_idx, accuracy in enumerate(accuracies):\n",
    "        entries.append((model_name, fold_idx, accuracy))\n",
    "cv_df = pd.DataFrame(enteries, columns=['model_name','fold_idx','accuracy'])\n",
    "import seaborn as sns\n",
    "\n",
    "cv_df.groupby('model_name').accuracy.mean()"
   ]
  },
  {
   "cell_type": "code",
   "execution_count": null,
   "id": "47c85c5e-342c-4a95-96ce-a050e42c023f",
   "metadata": {},
   "outputs": [],
   "source": []
  }
 ],
 "metadata": {
  "kernelspec": {
   "display_name": "Python 3 (ipykernel)",
   "language": "python",
   "name": "python3"
  },
  "language_info": {
   "codemirror_mode": {
    "name": "ipython",
    "version": 3
   },
   "file_extension": ".py",
   "mimetype": "text/x-python",
   "name": "python",
   "nbconvert_exporter": "python",
   "pygments_lexer": "ipython3",
   "version": "3.9.7"
  }
 },
 "nbformat": 4,
 "nbformat_minor": 5
}
